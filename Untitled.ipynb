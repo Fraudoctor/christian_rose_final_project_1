{
 "cells": [
  {
   "cell_type": "markdown",
   "metadata": {},
   "source": [
    "This is the notebook for Christian Rose's Python for Data Science Final Project"
   ]
  },
  {
   "cell_type": "markdown",
   "metadata": {},
   "source": [
    "### Requirements\n",
    "\n",
    "1. Draft a well-formed problem statement.\n",
    "2. Include the following elements:\n",
    "   - The target variable you want to predict.\n",
    "   - How predicting that target variable could help with some kind of decision.\n",
    "   - The features you want to use to predict that target variable.\n",
    "   - Goals and success metrics\n",
    "   - Risks or limitations\n",
    "3. Identify at least one relevant dataset and load it into a Pandas dataframe.\n",
    "\n",
    "If the project you propose at this stage does not work out, you can change course later on. However, you will have a much easier time if you invest time up front in developing a good problem statement.\n",
    "\n",
    "### Format\n",
    "\n",
    "Create a Jupyter notebook in a new Git repository. Describe your project with a few paragraphs of text in one or more Markdown cells, and load each dataset that you plan to use for your project into a Pandas dataframe. Push your repo to GitHub and follow the submission instructions in your course info document.\n",
    "\n",
    "### Possible Projects\n",
    "\n",
    "I usually see the best results on projects that are done for work, presumably because students can often develop them during work time and have strong incentives to do a good job. If a work-related project is not an option, you might choose a project related to a hobby or cause that you are passionate about."
   ]
  },
  {
   "cell_type": "markdown",
   "metadata": {},
   "source": [
    "### Problem Statement 1\n",
    "\n",
    "Antihypertensive medications are commonplace. Millions of people are prescribed them in the US. However, they are very dangerous drugs, and every year hundreds of people die of overdose from these medications. \n",
    "\n",
    "Determining useful drug therapies for these overdoses is difficult due to limited possible interventions and the effect of these vasoactive medications on the body's ability to transport them to where they are needed in the setting of an overdose.\n",
    "\n",
    "The outcome we want to improve is ICU days. We want to be able to predict whether or not an intervention will be able to limit the days a patient is in the ICU (without that being reduced by death). We would also like to predict survival to discharge.\n",
    "\n",
    "As such, the target variable we are interested in is \"Medication\". We recognize that this is not causative but rather looking to see if there is any correlation between treatemtns for antihypertensive overdose and length of stay or survival.\n",
    "\n",
    "The features we plan to use to predict this target variable are vital signs like: heart rate, blood pressure, number of medications. \n",
    "\n",
    "The goal is to be able to come up with a feature set that is correlated with survival in these complex cases. \n",
    "\n",
    "Risks and limitations include that the likelihood of survival will be too small to detect, that there won't be enough cases in the data set to be able to make actual predictions from. Furthermore, while improved blood pressure and vital signs will likely be correlated with improved outcomes (as they are also an effect of better treatment by practitioners) I will need to find a way to control for this in the groups.\n"
   ]
  },
  {
   "cell_type": "code",
   "execution_count": 3,
   "metadata": {},
   "outputs": [
    {
     "ename": "NameError",
     "evalue": "name 'Path' is not defined",
     "output_type": "error",
     "traceback": [
      "\u001b[0;31m---------------------------------------------------------------------------\u001b[0m",
      "\u001b[0;31mNameError\u001b[0m                                 Traceback (most recent call last)",
      "\u001b[0;32m<ipython-input-3-0b692e1c6eda>\u001b[0m in \u001b[0;36m<module>\u001b[0;34m\u001b[0m\n\u001b[1;32m      5\u001b[0m \u001b[0;31m#create engine\u001b[0m\u001b[0;34m\u001b[0m\u001b[0;34m\u001b[0m\u001b[0m\n\u001b[1;32m      6\u001b[0m \u001b[0mengine\u001b[0m \u001b[0;34m=\u001b[0m \u001b[0mcreate_engine\u001b[0m\u001b[0;34m(\u001b[0m\u001b[0;34m'sqlite:///:memory:'\u001b[0m\u001b[0;34m)\u001b[0m\u001b[0;34m\u001b[0m\u001b[0m\n\u001b[0;32m----> 7\u001b[0;31m \u001b[0mmimic_path\u001b[0m \u001b[0;34m=\u001b[0m \u001b[0mPath\u001b[0m\u001b[0;34m(\u001b[0m\u001b[0;34m'..'\u001b[0m\u001b[0;34m,\u001b[0m \u001b[0;34m'assets'\u001b[0m\u001b[0;34m,\u001b[0m \u001b[0;34m'mimiciii_demo-postgres_9_5.backup'\u001b[0m\u001b[0;34m)\u001b[0m\u001b[0;34m\u001b[0m\u001b[0m\n\u001b[0m\u001b[1;32m      8\u001b[0m \u001b[0;31m#read the table\u001b[0m\u001b[0;34m\u001b[0m\u001b[0;34m\u001b[0m\u001b[0m\n\u001b[1;32m      9\u001b[0m \u001b[0mpd\u001b[0m\u001b[0;34m.\u001b[0m\u001b[0mread_sql_table\u001b[0m\u001b[0;34m(\u001b[0m\u001b[0mmimic_path\u001b[0m\u001b[0;34m,\u001b[0m \u001b[0mengine\u001b[0m\u001b[0;34m)\u001b[0m\u001b[0;34m\u001b[0m\u001b[0m\n",
      "\u001b[0;31mNameError\u001b[0m: name 'Path' is not defined"
     ]
    }
   ],
   "source": [
    "#Loading data set into Pandas dataframe\n",
    "#Of note, this is from a relational database and I will need to concatenate them, which will be something to learn.\n",
    "import pandas as pd\n",
    "from sqlalchemy import create_engine\n",
    "#create engine \n",
    "engine = create_engine('sqlite:///:memory:')\n",
    "mimic_path = Path('..', 'assets', 'mimiciii_demo-postgres_9_5.backup')\n",
    "#read the table\n",
    "pd.read_sql_table(mimic_path, engine)"
   ]
  },
  {
   "cell_type": "code",
   "execution_count": 1,
   "metadata": {},
   "outputs": [
    {
     "name": "stdout",
     "output_type": "stream",
     "text": [
      "\n",
      "The following command must be run outside of the IPython shell:\n",
      "\n",
      "    $ pip install SQLAlchemy\n",
      "\n",
      "The Python package manager (pip) can only be used from outside of IPython.\n",
      "Please reissue the `pip` command in a separate terminal or command prompt.\n",
      "\n",
      "See the Python documentation for more information on how to install packages:\n",
      "\n",
      "    https://docs.python.org/3/installing/\n"
     ]
    }
   ],
   "source": [
    "pip install SQLAlchemy"
   ]
  },
  {
   "cell_type": "markdown",
   "metadata": {},
   "source": [
    "### Problem Statement 2\n",
    "Traumatic Brain Injuries are becoming more understood and identified in the population. They have impacted our participation in sports as well as how we perceive even small head injuries. However, while they occur in play, they may also be related to sporting events in that people who drink are more likely to fall and potentially have head injuries.\n",
    "\n",
    "We "
   ]
  }
 ],
 "metadata": {
  "kernelspec": {
   "display_name": "Python 3",
   "language": "python",
   "name": "python3"
  },
  "language_info": {
   "codemirror_mode": {
    "name": "ipython",
    "version": 3
   },
   "file_extension": ".py",
   "mimetype": "text/x-python",
   "name": "python",
   "nbconvert_exporter": "python",
   "pygments_lexer": "ipython3",
   "version": "3.6.6"
  }
 },
 "nbformat": 4,
 "nbformat_minor": 2
}
